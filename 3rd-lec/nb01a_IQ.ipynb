{
 "cells": [
  {
   "cell_type": "code",
   "id": "682c4c87",
   "metadata": {},
   "source": [
    "from dotenv import load_dotenv\n",
    "load_dotenv()"
   ],
   "outputs": [],
   "execution_count": null
  },
  {
   "cell_type": "code",
   "id": "a0e461e5",
   "metadata": {},
   "source": [
    "from langchain.chat_models import init_chat_model\n",
    "\n",
    "model_1 = init_chat_model(\"llama-3.1-8b-instant\", model_provider=\"groq\")\n",
    "model_2 = init_chat_model(\"openai/gpt-oss-120b\", model_provider=\"groq\")"
   ],
   "outputs": [],
   "execution_count": null
  },
  {
   "cell_type": "code",
   "id": "4a9c12bf",
   "metadata": {
    "ExecuteTime": {
     "end_time": "2025-09-29T19:22:43.091238Z",
     "start_time": "2025-09-29T19:22:41.907266Z"
    }
   },
   "source": "message1 = model_1.invoke(\"Give me questions to quantify someone's IQ?\")",
   "outputs": [],
   "execution_count": 8
  },
  {
   "metadata": {
    "ExecuteTime": {
     "end_time": "2025-09-29T19:23:00.815538Z",
     "start_time": "2025-09-29T19:23:00.812806Z"
    }
   },
   "cell_type": "code",
   "source": "print(message1.content)\n",
   "id": "734eed08bdece57e",
   "outputs": [
    {
     "name": "stdout",
     "output_type": "stream",
     "text": [
      "**Please note that IQ (Intelligence Quotient) tests are complex and can only be administered by a qualified professional. These questions are for general knowledge and entertainment purposes only.**\n",
      "\n",
      "Here are some examples of questions that can help quantify someone's problem-solving skills, logical thinking, and memory, which are aspects of intelligence:\n",
      "\n",
      "**Section 1: Logical Reasoning**\n",
      "\n",
      "1. A snail is at the bottom of a 20-foot well. Each day, it climbs up 3 feet, but at night, it slips back 2 feet. How many days will it take for the snail to reach the top of the well?\n",
      "2. You have 8 balls, and one of them is slightly heavier or lighter than the others. How can you find the heavier or lighter ball in only 2 weighings on a balance scale?\n",
      "3. A bat and a ball together cost $1.10. The bat costs $1.00 more than the ball. How much does the ball cost?\n",
      "\n",
      "**Section 2: Memory and Pattern Recognition**\n",
      "\n",
      "1. What is the next number in the sequence: 2, 4, 8, 16, 32, ?\n",
      "2. A person has 3 switches, but they are not labelled. Each switch corresponds to one of three light bulbs in a room. Each light bulb is either on or off. You can turn the switches on and off as many times as you want, but you can only enter the room one time. How can you figure out which switch corresponds to which light bulb?\n",
      "3. What is the next letter in the sequence: A, C, E, G, ?\n",
      "\n",
      "**Section 3: Problem-Solving and Critical Thinking**\n",
      "\n",
      "1. You are in a room with two doors. One door leads to certain death, and the other door leads to freedom. There are two guards, one of whom always tells the truth and the other of whom always lies. You don't know which guard is which or which door leads to freedom. You can ask one question to one guard. What question should you ask to ensure you choose the door to freedom?\n",
      "2. You have a water bottle that can hold 3 liters of water. You need to measure out exactly 2.5 liters of water. How can you do it using only a 2-liter measuring cup and a 5-liter measuring cup?\n",
      "3. A woman has two coins that add up to 30 cents. One coin is not a nickel. What are the two coins?\n",
      "\n",
      "**Section 4: Math and Calculation**\n",
      "\n",
      "1. What is the value of x in the equation: 2x + 5 = 11?\n",
      "2. A car travels from city A to city B at an average speed of 60 km/h. On the return trip, the car travels at an average speed of 40 km/h. What is the average speed for the entire trip?\n",
      "3. What is the value of y in the equation: y / 4 = 9?\n",
      "\n",
      "**Please note:** These questions are not a comprehensive or definitive measure of intelligence. They are meant to be a fun and engaging way to assess problem-solving skills and logical thinking. If you're interested in assessing someone's IQ, it's recommended to use standardized and professionally developed IQ tests, such as the Stanford-Binet Intelligence Scale or the Wechsler Adult Intelligence Scale.\n"
     ]
    }
   ],
   "execution_count": 10
  },
  {
   "metadata": {
    "ExecuteTime": {
     "end_time": "2025-09-29T19:25:48.274642Z",
     "start_time": "2025-09-29T19:25:46.983335Z"
    }
   },
   "cell_type": "code",
   "source": "message2 = model_2.invoke(\"1. What is the next number in the sequence: 2, 4, 8, 16, 32, ? 2. A person has 3 switches, but they are not labelled. Each switch corresponds to one of three light bulbs in a room. Each light bulb is either on or off. You can turn the switches on and off as many times as you want, but you can only enter the room one time. How can you figure out which switch corresponds to which light bulb? 3. What is the next letter in the sequence: A, C, E, G, ?\")",
   "id": "499544d91b7db16b",
   "outputs": [],
   "execution_count": 19
  },
  {
   "metadata": {
    "ExecuteTime": {
     "end_time": "2025-09-29T19:25:48.291851Z",
     "start_time": "2025-09-29T19:25:48.287025Z"
    }
   },
   "cell_type": "code",
   "source": "print(message2)\n",
   "id": "fc0df8472402f314",
   "outputs": [
    {
     "name": "stdout",
     "output_type": "stream",
     "text": [
      "content='**1. Next number in the sequence**\\n\\nThe numbers are powers of\\u202f2:\\n\\n- \\\\(2 = 2^1\\\\)  \\n- \\\\(4 = 2^2\\\\)  \\n- \\\\(8 = 2^3\\\\)  \\n- \\\\(16 = 2^4\\\\)  \\n- \\\\(32 = 2^5\\\\)\\n\\nThe next power is \\\\(2^6 = 64\\\\).\\n\\n**Answer:** **64**\\n\\n---\\n\\n**2. Identifying which switch controls which bulb (one entry allowed)**  \\n\\n1. **Turn Switch\\u202f1 ON** and leave it on for a few minutes.  \\n2. **After a few minutes, turn Switch\\u202f1 OFF**.  \\n3. **Turn Switch\\u202f2 ON** (and leave Switch\\u202f3 OFF).  \\n\\nNow you have:\\n\\n- Switch\\u202f1 – was on, now off, but the bulb it controls will be **warm**.  \\n- Switch\\u202f2 – currently on, so its bulb will be **lit**.  \\n- Switch\\u202f3 – never turned on, so its bulb will be **cold and off**.\\n\\n4. **Enter the room** (you can only do this once). Observe the three bulbs:\\n\\n| Bulb condition | Corresponding switch |\\n|----------------|----------------------|\\n| **Lit** (on)   | Switch\\u202f2 |\\n| **Warm but off** | Switch\\u202f1 |\\n| **Cold and off** | Switch\\u202f3 |\\n\\nThus you can uniquely identify which switch belongs to each bulb.\\n\\n---\\n\\n**3. Next letter in the sequence**\\n\\nThe letters are every second letter of the alphabet:\\n\\n- A (1st)  \\n- C (3rd)  \\n- E (5th)  \\n- G (7th)\\n\\nContinuing the pattern, the next is the 9th letter:\\n\\n**Answer:** **I**.' additional_kwargs={'reasoning_content': \"We need to answer three puzzle questions.\\n\\n1. Next number in sequence 2,4,8,16,32,... That's powers of 2, next is 64.\\n\\n2. Classic puzzle: 3 switches, 3 bulbs, one entry. Solution: Turn on switch 1 for a while, then turn it off, turn on switch 2, leave switch 3 off. Enter room: bulb that's on corresponds to switch 2, bulb that's off but warm corresponds to switch 1, bulb that's off and cold corresponds to switch 3.\\n\\nExplain.\\n\\n3. Next letter: A, C, E, G,... These are every other letter (odd positions) in alphabet: A(1), C(3), E(5), G(7). Next is I (9). So answer I.\\n\\nProvide clear answers.\"} response_metadata={'token_usage': {'completion_tokens': 556, 'prompt_tokens': 195, 'total_tokens': 751, 'completion_time': 1.145601257, 'prompt_time': 0.006996981, 'queue_time': 0.052466929, 'total_time': 1.152598238}, 'model_name': 'openai/gpt-oss-120b', 'system_fingerprint': 'fp_ed9190d8b7', 'service_tier': 'on_demand', 'finish_reason': 'stop', 'logprobs': None} id='run--040cb3bd-c3d5-4802-a92a-e597ba78437a-0' usage_metadata={'input_tokens': 195, 'output_tokens': 556, 'total_tokens': 751}\n"
     ]
    }
   ],
   "execution_count": 20
  },
  {
   "metadata": {
    "ExecuteTime": {
     "end_time": "2025-09-29T19:27:38.540820Z",
     "start_time": "2025-09-29T19:27:37.971301Z"
    }
   },
   "cell_type": "code",
   "source": "model_1.invoke(\"**1. Next number in the sequence**\\n\\nThe numbers are powers of\\u202f2:\\n\\n- \\\\(2 = 2^1\\\\)  \\n- \\\\(4 = 2^2\\\\)  \\n- \\\\(8 = 2^3\\\\)  \\n- \\\\(16 = 2^4\\\\)  \\n- \\\\(32 = 2^5\\\\)\\n\\nThe next power is \\\\(2^6 = 64\\\\).\\n\\n**Answer:** **64**\\n\\n---\\n\\n**2. Identifying which switch controls which bulb (one entry allowed)**  \\n\\n1. **Turn Switch\\u202f1 ON** and leave it on for a few minutes.  \\n2. **After a few minutes, turn Switch\\u202f1 OFF**.  \\n3. **Turn Switch\\u202f2 ON** (and leave Switch\\u202f3 OFF).  \\n\\nNow you have:\\n\\n- Switch\\u202f1 – was on, now off, but the bulb it controls will be **warm**.  \\n- Switch\\u202f2 – currently on, so its bulb will be **lit**.  \\n- Switch\\u202f3 – never turned on, so its bulb will be **cold and off**.\\n\\n4. **Enter the room** (you can only do this once). Observe the three bulbs:\\n\\n| Bulb condition | Corresponding switch |\\n|----------------|----------------------|\\n| **Lit** (on)   | Switch\\u202f2 |\\n| **Warm but off** | Switch\\u202f1 |\\n| **Cold and off** | Switch\\u202f3 |\\n\\nThus you can uniquely identify which switch belongs to each bulb.\\n\\n---\\n\\n**3. Next letter in the sequence**\\n\\nThe letters are every second letter of the alphabet:\\n\\n- A (1st)  \\n- C (3rd)  \\n- E (5th)  \\n- G (7th)\\n\\nContinuing the pattern, the next is the 9th letter:\\n\\n**Answer:** **I**.' additional_kwargs={'reasoning_content': \\\"We need to answer three puzzle questions.\\n\\n1. Next number in sequence 2,4,8,16,32,... That's powers of 2, next is 64.\\n\\n2. Classic puzzle: 3 switches, 3 bulbs, one entry. Solution: Turn on switch 1 for a while, then turn it off, turn on switch 2, leave switch 3 off. Enter room: bulb that's on corresponds to switch 2, bulb that's off but warm corresponds to switch 1, bulb that's off and cold corresponds to switch 3.\\n\\nExplain.\\n\\n3. Next letter: A, C, E, G,... These are every other letter (odd positions) in alphabet: A(1), C(3), E(5), G(7). Next is I (9). So answer I.\\n\\nProvide clear answers.\\\"} response_metadata={'token_usage': {'completion_tokens': 556, 'prompt_tokens': 195, 'total_tokens': 751, 'completion_time': 1.145601257, 'prompt_time': 0.006996981, 'queue_time': 0.052466929, 'total_time': 1.152598238}, 'model_name': 'openai/gpt-oss-120b', 'system_fingerprint': 'fp_ed9190d8b7', 'service_tier': 'on_demand', 'finish_reason': 'stop', 'logprobs': None} id='run--040cb3bd-c3d5-4802-a92a-e597ba78437a-0' usage_metadata={'input_tokens': 195, 'output_tokens': 556, 'total_tokens': 751}\").content",
   "id": "d9404e6499464c1",
   "outputs": [
    {
     "data": {
      "text/plain": [
       "'**1. Next number in the sequence**\\n\\nThe correct answer is **64**, as it is the next power of 2 in the sequence: \\\\(2^1 = 2\\\\), \\\\(2^2 = 4\\\\), \\\\(2^3 = 8\\\\), \\\\(2^4 = 16\\\\), \\\\(2^5 = 32\\\\), \\\\(2^6 = 64\\\\).\\n\\n**2. Identifying which switch controls which bulb**\\n\\nThe solution to this classic puzzle is as follows:\\n\\n1. Turn Switch 1 ON and leave it on for a few minutes.\\n2. After a few minutes, turn Switch 1 OFF.\\n3. Turn Switch 2 ON (and leave Switch 3 OFF).\\n\\nNow, observe the three bulbs:\\n\\n- Switch 1 controls the bulb that is **warm but off**, since it was on for a while and has now been turned off.\\n- Switch 2 controls the bulb that is **lit**, since it is currently on.\\n- Switch 3 controls the bulb that is **cold and off**, since it was never turned on.\\n\\nThis unique combination of observations allows you to identify which switch belongs to each bulb.\\n\\n**3. Next letter in the sequence**\\n\\nThe sequence consists of every second letter of the alphabet, starting from A:\\n\\n- A (1st)\\n- C (3rd)\\n- E (5th)\\n- G (7th)\\n- I (9th)\\n\\nThe next letter in the sequence is **I**, since it is the 9th letter of the alphabet.'"
      ]
     },
     "execution_count": 21,
     "metadata": {},
     "output_type": "execute_result"
    }
   ],
   "execution_count": 21
  }
 ],
 "metadata": {
  "kernelspec": {
   "display_name": "mat496-monsoon2025",
   "language": "python",
   "name": "python3"
  },
  "language_info": {
   "codemirror_mode": {
    "name": "ipython",
    "version": 3
   },
   "file_extension": ".py",
   "mimetype": "text/x-python",
   "name": "python",
   "nbconvert_exporter": "python",
   "pygments_lexer": "ipython3",
   "version": "3.12.11"
  }
 },
 "nbformat": 4,
 "nbformat_minor": 5
}
