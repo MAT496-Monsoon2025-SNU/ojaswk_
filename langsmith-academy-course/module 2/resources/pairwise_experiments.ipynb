{
 "cells": [
  {
   "cell_type": "markdown",
   "metadata": {},
   "source": [
    "# Pairwise Experiments"
   ]
  },
  {
   "cell_type": "markdown",
   "metadata": {},
   "source": [
    "### Setup"
   ]
  },
  {
   "cell_type": "code",
   "execution_count": null,
   "metadata": {},
   "outputs": [],
   "source": [
    "# You can set them inline\n",
    "import os\n",
    "os.environ[\"OPENAI_API_KEY\"] = \"\"\n",
    "os.environ[\"LANGSMITH_API_KEY\"] = \"\"\n",
    "os.environ[\"LANGSMITH_TRACING\"] = \"true\"\n",
    "os.environ[\"LANGSMITH_PROJECT\"] = \"langsmith-academy\""
   ]
  },
  {
   "cell_type": "code",
   "metadata": {
    "ExecuteTime": {
     "end_time": "2025-10-04T18:30:30.904183Z",
     "start_time": "2025-10-04T18:30:30.897099Z"
    }
   },
   "source": [
    "# Or you can use a .env file\n",
    "import os\n",
    "from dotenv import load_dotenv\n",
    "load_dotenv(dotenv_path=\"../../../.env\", override=True)\n",
    "os.environ[\"USER_AGENT\"] = \"496\"\n",
    "os.environ[\"TOKENIZERS_PARALLELISM\"] = \"false\""
   ],
   "outputs": [],
   "execution_count": 1
  },
  {
   "metadata": {
    "ExecuteTime": {
     "end_time": "2025-10-04T18:30:32.298702Z",
     "start_time": "2025-10-04T18:30:32.295299Z"
    }
   },
   "cell_type": "code",
   "source": [
    "import warnings\n",
    "import numpy as np\n",
    "\n",
    "# Suppress sklearn warnings\n",
    "warnings.filterwarnings('ignore', category=RuntimeWarning, module='sklearn')\n",
    "np.seterr(divide='ignore', invalid='ignore', over='ignore')"
   ],
   "outputs": [
    {
     "data": {
      "text/plain": [
       "{'divide': 'warn', 'over': 'warn', 'under': 'ignore', 'invalid': 'warn'}"
      ]
     },
     "execution_count": 2,
     "metadata": {},
     "output_type": "execute_result"
    }
   ],
   "execution_count": 2
  },
  {
   "cell_type": "markdown",
   "metadata": {},
   "source": [
    "### Task"
   ]
  },
  {
   "cell_type": "markdown",
   "metadata": {},
   "source": [
    "Let's set up a new task! Here, we have a salesperson named Bob. Bob has a lot of deals, so he wants to summarize what happened in this deals based off of some meeting transcripts.\n",
    "\n",
    "Bob is iterating on a few different prompts, that will give him nice, concise transcripts for his deals.\n",
    "\n",
    "Bob has curated a dataset of his deal transcripts, let's go ahead and load that in. You can take a look at the dataset as well if you're curious! Note that this is not a golden dataset, there is no reference output here."
   ]
  },
  {
   "cell_type": "code",
   "metadata": {
    "ExecuteTime": {
     "end_time": "2025-10-04T18:30:36.390179Z",
     "start_time": "2025-10-04T18:30:33.510367Z"
    }
   },
   "source": [
    "# Cell 3: Clone the public dataset\n",
    "from langsmith import Client\n",
    "\n",
    "client = Client()\n",
    "dataset = client.clone_public_dataset(\n",
    "    \"https://smith.langchain.com/public/9078d2f1-7bef-4ba7-b795-210a17682ef9/d\"\n",
    ")"
   ],
   "outputs": [],
   "execution_count": 3
  },
  {
   "cell_type": "markdown",
   "metadata": {},
   "source": [
    "### Experiments"
   ]
  },
  {
   "cell_type": "markdown",
   "metadata": {},
   "source": [
    "Now, let's run some experiments on this dataset using two different prompts. Let's add an evaluator that tries to score how good our summaries are!"
   ]
  },
  {
   "cell_type": "code",
   "metadata": {
    "ExecuteTime": {
     "end_time": "2025-10-04T18:30:38.196327Z",
     "start_time": "2025-10-04T18:30:38.057492Z"
    }
   },
   "source": [
    "# Cell 4: Create evaluator using Anthropic\n",
    "from pydantic import BaseModel, Field\n",
    "from anthropic import Anthropic\n",
    "import json\n",
    "\n",
    "anthropic_client = Anthropic()\n",
    "\n",
    "SUMMARIZATION_SYSTEM_PROMPT = \"\"\"You are a judge, aiming to score how well a summary summarizes the content of a transcript\"\"\"\n",
    "\n",
    "SUMMARIZATION_HUMAN_PROMPT = \"\"\"\n",
    "[The Meeting Transcript] {transcript}\n",
    "[The Start of Summarization] {summary} [The End of Summarization]\n",
    "\n",
    "Provide a score from 1-5 ranking how good the summarization is:\n",
    "- 1: Bad summary\n",
    "- 5: Great summary\n",
    "\n",
    "Return JSON format: {{\"score\": <number>}}\"\"\"\n",
    "\n",
    "class SummarizationScore(BaseModel):\n",
    "    score: int = Field(description=\"A score from 1-5 ranking how good the summarization is for the provided transcript, with 1 being a bad summary, and 5 being a great summary\")\n",
    "\n",
    "def summary_score_evaluator(inputs: dict, outputs: dict) -> dict:\n",
    "    user_message = SUMMARIZATION_HUMAN_PROMPT.format(\n",
    "        transcript=inputs[\"transcript\"],\n",
    "        summary=outputs.get(\"output\", \"N/A\"),\n",
    "    )\n",
    "\n",
    "    response = anthropic_client.messages.create(\n",
    "        model=\"claude-sonnet-4-5-20250929\",\n",
    "        max_tokens=500,\n",
    "        system=SUMMARIZATION_SYSTEM_PROMPT,\n",
    "        messages=[\n",
    "            {\"role\": \"user\", \"content\": user_message}\n",
    "        ]\n",
    "    )\n",
    "\n",
    "    # Parse JSON response\n",
    "    try:\n",
    "        response_text = response.content[0].text\n",
    "        start = response_text.find(\"{\")\n",
    "        end = response_text.rfind(\"}\") + 1\n",
    "        parsed = json.loads(response_text[start:end])\n",
    "        summary_score = parsed.get(\"score\", 3)\n",
    "    except:\n",
    "        summary_score = 3  # Default fallback\n",
    "\n",
    "    return {\"key\": \"summary_score\", \"score\": summary_score}"
   ],
   "outputs": [],
   "execution_count": 4
  },
  {
   "cell_type": "markdown",
   "metadata": {},
   "source": [
    "First, we'll run our experiment with a good version of our prompt!"
   ]
  },
  {
   "cell_type": "code",
   "metadata": {
    "ExecuteTime": {
     "end_time": "2025-10-04T18:31:33.673095Z",
     "start_time": "2025-10-04T18:30:40.888248Z"
    }
   },
   "source": [
    "# Cell 5: Good Summarizer Experiment\n",
    "def good_summarizer(inputs: dict):\n",
    "    response = anthropic_client.messages.create(\n",
    "        model=\"claude-sonnet-4-5-20250929\",\n",
    "        max_tokens=1024,\n",
    "        messages=[\n",
    "            {\n",
    "                \"role\": \"user\",\n",
    "                \"content\": f\"Concisely summarize this meeting in 3 sentences. Make sure to include all of the important events. Meeting: {inputs['transcript']}\"\n",
    "            }\n",
    "        ]\n",
    "    )\n",
    "    return response.content[0].text\n",
    "\n",
    "client.evaluate(\n",
    "    good_summarizer,\n",
    "    data=dataset,\n",
    "    evaluators=[summary_score_evaluator],\n",
    "    experiment_prefix=\"Good Summarizer\"\n",
    ")"
   ],
   "outputs": [
    {
     "name": "stdout",
     "output_type": "stream",
     "text": [
      "View the evaluation results for experiment: 'Good Summarizer-7a0b855d' at:\n",
      "https://smith.langchain.com/o/072e35aa-3a5b-404d-bd5a-459a19c5e651/datasets/a8705f7f-27ba-4efa-80f6-1a495efb564d/compare?selectedSessions=9cc63e1a-194b-4869-883c-6d2968ea1952\n",
      "\n",
      "\n"
     ]
    },
    {
     "data": {
      "text/plain": [
       "0it [00:00, ?it/s]"
      ],
      "application/vnd.jupyter.widget-view+json": {
       "version_major": 2,
       "version_minor": 0,
       "model_id": "0bedfb465dd54b06af3e05825165f193"
      }
     },
     "metadata": {},
     "output_type": "display_data",
     "jetTransient": {
      "display_id": null
     }
    },
    {
     "data": {
      "text/plain": [
       "<ExperimentResults Good Summarizer-7a0b855d>"
      ],
      "text/html": [
       "<div>\n",
       "<style scoped>\n",
       "    .dataframe tbody tr th:only-of-type {\n",
       "        vertical-align: middle;\n",
       "    }\n",
       "\n",
       "    .dataframe tbody tr th {\n",
       "        vertical-align: top;\n",
       "    }\n",
       "\n",
       "    .dataframe thead th {\n",
       "        text-align: right;\n",
       "    }\n",
       "</style>\n",
       "<table border=\"1\" class=\"dataframe\">\n",
       "  <thead>\n",
       "    <tr style=\"text-align: right;\">\n",
       "      <th></th>\n",
       "      <th>inputs.transcript</th>\n",
       "      <th>outputs.output</th>\n",
       "      <th>error</th>\n",
       "      <th>feedback.summary_score</th>\n",
       "      <th>execution_time</th>\n",
       "      <th>example_id</th>\n",
       "      <th>id</th>\n",
       "    </tr>\n",
       "  </thead>\n",
       "  <tbody>\n",
       "    <tr>\n",
       "      <th>0</th>\n",
       "      <td>Bob and Mr. Carter (CLOSED DEAL): Bob: Welcome...</td>\n",
       "      <td>Bob successfully sold Mr. Carter a Ford F-150 ...</td>\n",
       "      <td>None</td>\n",
       "      <td>5</td>\n",
       "      <td>4.025560</td>\n",
       "      <td>07a2ffe8-0e46-430b-b580-27f92372dcea</td>\n",
       "      <td>13cf8802-971b-4dab-a8f0-898cc6bd6954</td>\n",
       "    </tr>\n",
       "    <tr>\n",
       "      <th>1</th>\n",
       "      <td>Bob and Mr. Johnson (CLOSED DEAL): Bob: Good m...</td>\n",
       "      <td>Bob helped Mr. Johnson find a family SUV at Fo...</td>\n",
       "      <td>None</td>\n",
       "      <td>5</td>\n",
       "      <td>3.920780</td>\n",
       "      <td>0ee6e17f-93d3-4389-93d6-fadeafbf3e63</td>\n",
       "      <td>cbaff9fe-03f7-4571-bfef-a8ac85a31145</td>\n",
       "    </tr>\n",
       "    <tr>\n",
       "      <th>2</th>\n",
       "      <td>Bob and Mr. Patel (CLOSED DEAL): Bob: Hello, M...</td>\n",
       "      <td>Bob helped Mr. Patel find a midsize sedan for ...</td>\n",
       "      <td>None</td>\n",
       "      <td>5</td>\n",
       "      <td>3.989744</td>\n",
       "      <td>53d1cd6d-7655-4dcf-80a7-f1c6ab4da323</td>\n",
       "      <td>956baf72-6d4f-4367-aaa8-56192bda541f</td>\n",
       "    </tr>\n",
       "    <tr>\n",
       "      <th>3</th>\n",
       "      <td>Bob and Ms. Nguyen (NO DEAL): Bob: Good aftern...</td>\n",
       "      <td>Bob met with Ms. Nguyen who was interested in ...</td>\n",
       "      <td>None</td>\n",
       "      <td>5</td>\n",
       "      <td>3.762214</td>\n",
       "      <td>b7c66290-4922-4f8a-895d-21dee75b35d3</td>\n",
       "      <td>a9b6d796-4a26-4e3d-acc7-fdbe217b3d0d</td>\n",
       "    </tr>\n",
       "    <tr>\n",
       "      <th>4</th>\n",
       "      <td>Bob and Ms. Thompson (NO DEAL): Bob: Hi, Ms. T...</td>\n",
       "      <td>Ms. Thompson visited Ford Motors to browse SUV...</td>\n",
       "      <td>None</td>\n",
       "      <td>5</td>\n",
       "      <td>4.225877</td>\n",
       "      <td>c0ad1714-d1b3-40f6-8006-5c33ed217821</td>\n",
       "      <td>8339edb9-3f19-4e14-a5c1-7288a994059d</td>\n",
       "    </tr>\n",
       "  </tbody>\n",
       "</table>\n",
       "</div>"
      ]
     },
     "execution_count": 5,
     "metadata": {},
     "output_type": "execute_result"
    }
   ],
   "execution_count": 5
  },
  {
   "cell_type": "markdown",
   "metadata": {},
   "source": [
    "Now, we'll run an experiment with a worse version of our prompt, to highlight the difference."
   ]
  },
  {
   "cell_type": "code",
   "metadata": {
    "ExecuteTime": {
     "end_time": "2025-10-04T18:32:15.176133Z",
     "start_time": "2025-10-04T18:31:33.695825Z"
    }
   },
   "source": [
    "# Cell 6: Bad Summarizer Experiment\n",
    "def bad_summarizer(inputs: dict):\n",
    "    response = anthropic_client.messages.create(\n",
    "        model=\"claude-sonnet-4-5-20250929\",\n",
    "        max_tokens=1024,\n",
    "        messages=[\n",
    "            {\n",
    "                \"role\": \"user\",\n",
    "                \"content\": f\"Summarize this in one sentence. {inputs['transcript']}\"\n",
    "            }\n",
    "        ]\n",
    "    )\n",
    "    return response.content[0].text\n",
    "\n",
    "client.evaluate(\n",
    "    bad_summarizer,\n",
    "    data=dataset,\n",
    "    evaluators=[summary_score_evaluator],\n",
    "    experiment_prefix=\"Bad Summarizer\"\n",
    ")"
   ],
   "outputs": [
    {
     "name": "stdout",
     "output_type": "stream",
     "text": [
      "View the evaluation results for experiment: 'Bad Summarizer-3ba1406c' at:\n",
      "https://smith.langchain.com/o/072e35aa-3a5b-404d-bd5a-459a19c5e651/datasets/a8705f7f-27ba-4efa-80f6-1a495efb564d/compare?selectedSessions=773e7fe1-3a19-4a4f-b9ea-04767af2a262\n",
      "\n",
      "\n"
     ]
    },
    {
     "data": {
      "text/plain": [
       "0it [00:00, ?it/s]"
      ],
      "application/vnd.jupyter.widget-view+json": {
       "version_major": 2,
       "version_minor": 0,
       "model_id": "5c35ddc2fe764ef6a80e75a5460e68e6"
      }
     },
     "metadata": {},
     "output_type": "display_data",
     "jetTransient": {
      "display_id": null
     }
    },
    {
     "data": {
      "text/plain": [
       "<ExperimentResults Bad Summarizer-3ba1406c>"
      ],
      "text/html": [
       "<div>\n",
       "<style scoped>\n",
       "    .dataframe tbody tr th:only-of-type {\n",
       "        vertical-align: middle;\n",
       "    }\n",
       "\n",
       "    .dataframe tbody tr th {\n",
       "        vertical-align: top;\n",
       "    }\n",
       "\n",
       "    .dataframe thead th {\n",
       "        text-align: right;\n",
       "    }\n",
       "</style>\n",
       "<table border=\"1\" class=\"dataframe\">\n",
       "  <thead>\n",
       "    <tr style=\"text-align: right;\">\n",
       "      <th></th>\n",
       "      <th>inputs.transcript</th>\n",
       "      <th>outputs.output</th>\n",
       "      <th>error</th>\n",
       "      <th>feedback.summary_score</th>\n",
       "      <th>execution_time</th>\n",
       "      <th>example_id</th>\n",
       "      <th>id</th>\n",
       "    </tr>\n",
       "  </thead>\n",
       "  <tbody>\n",
       "    <tr>\n",
       "      <th>0</th>\n",
       "      <td>Bob and Mr. Carter (CLOSED DEAL): Bob: Welcome...</td>\n",
       "      <td>Bob successfully sold Mr. Carter a Ford F-150 ...</td>\n",
       "      <td>None</td>\n",
       "      <td>5</td>\n",
       "      <td>3.664967</td>\n",
       "      <td>07a2ffe8-0e46-430b-b580-27f92372dcea</td>\n",
       "      <td>722de86b-b415-4fc2-b853-bf1a5630adc3</td>\n",
       "    </tr>\n",
       "    <tr>\n",
       "      <th>1</th>\n",
       "      <td>Bob and Mr. Johnson (CLOSED DEAL): Bob: Good m...</td>\n",
       "      <td>Bob successfully sold Mr. Johnson a Ford Explo...</td>\n",
       "      <td>None</td>\n",
       "      <td>5</td>\n",
       "      <td>3.106818</td>\n",
       "      <td>0ee6e17f-93d3-4389-93d6-fadeafbf3e63</td>\n",
       "      <td>e636eb3b-9073-4a26-acb6-3b478d77265f</td>\n",
       "    </tr>\n",
       "    <tr>\n",
       "      <th>2</th>\n",
       "      <td>Bob and Mr. Patel (CLOSED DEAL): Bob: Hello, M...</td>\n",
       "      <td>Bob successfully sold Mr. Patel a Ford Fusion ...</td>\n",
       "      <td>None</td>\n",
       "      <td>5</td>\n",
       "      <td>3.058527</td>\n",
       "      <td>53d1cd6d-7655-4dcf-80a7-f1c6ab4da323</td>\n",
       "      <td>c3d27edf-cff2-4ff5-8144-45c29e20921b</td>\n",
       "    </tr>\n",
       "    <tr>\n",
       "      <th>3</th>\n",
       "      <td>Bob and Ms. Nguyen (NO DEAL): Bob: Good aftern...</td>\n",
       "      <td>Bob, a car salesman, tries to sell Ms. Nguyen ...</td>\n",
       "      <td>None</td>\n",
       "      <td>5</td>\n",
       "      <td>3.810377</td>\n",
       "      <td>b7c66290-4922-4f8a-895d-21dee75b35d3</td>\n",
       "      <td>f9512cb9-6280-4bc9-afb2-2cd679aafb07</td>\n",
       "    </tr>\n",
       "    <tr>\n",
       "      <th>4</th>\n",
       "      <td>Bob and Ms. Thompson (NO DEAL): Bob: Hi, Ms. T...</td>\n",
       "      <td>Bob gave Ms. Thompson information about the Fo...</td>\n",
       "      <td>None</td>\n",
       "      <td>4</td>\n",
       "      <td>3.282824</td>\n",
       "      <td>c0ad1714-d1b3-40f6-8006-5c33ed217821</td>\n",
       "      <td>63bed034-f595-46a7-a534-afc809870362</td>\n",
       "    </tr>\n",
       "  </tbody>\n",
       "</table>\n",
       "</div>"
      ]
     },
     "execution_count": 6,
     "metadata": {},
     "output_type": "execute_result"
    }
   ],
   "execution_count": 6
  },
  {
   "cell_type": "markdown",
   "metadata": {},
   "source": [
    "### Pairwise Experiment"
   ]
  },
  {
   "cell_type": "markdown",
   "metadata": {},
   "source": [
    "Let's define a function that will compare our two experiments. These are the fields that pairwise evaluator functions get access to:\n",
    "- `inputs: dict`: A dictionary of the inputs corresponding to a single example in a dataset.\n",
    "- `outputs: list[dict]`: A list of the dict outputs produced by each experiment on the given inputs.\n",
    "- `reference_outputs: dict`: A dictionary of the reference outputs associated with the example, if available.\n",
    "- `runs: list[Run]`: A list of the full Run objects generated by the experiments on the given example. Use this if you need access to intermediate steps or metadata about each run.\n",
    "- `example: Example`: The full dataset Example, including the example inputs, outputs (if available), and metdata (if available)."
   ]
  },
  {
   "cell_type": "markdown",
   "metadata": {},
   "source": [
    "First, let's give our LLM-as-Judge some instructions. In our case, we're just going to directly use LLM-as-judge to grade which of the summarizers is the most helpful.\n",
    "\n",
    "It might be hard to grade our summarizers without a ground truth reference, but here, comparing different prompts head to head will give us a sense of which is better!"
   ]
  },
  {
   "cell_type": "code",
   "metadata": {
    "ExecuteTime": {
     "end_time": "2025-10-04T18:32:15.232554Z",
     "start_time": "2025-10-04T18:32:15.230778Z"
    }
   },
   "source": [
    "# Cell 7: Define Judge Prompts\n",
    "JUDGE_SYSTEM_PROMPT = \"\"\"\n",
    "Please act as an impartial judge and evaluate the quality of the summarizations provided by two AI summarizers to the meeting transcript below.\n",
    "Your evaluation should consider factors such as the helpfulness, relevance, accuracy, depth, creativity, and level of detail of their summarizations.\n",
    "Begin your evaluation by comparing the two summarizations and provide a short explanation.\n",
    "Avoid any position biases and ensure that the order in which the responses were presented does not influence your decision.\n",
    "Do not favor certain names of the assistants.\n",
    "Be as objective as possible.\"\"\"\n",
    "\n",
    "JUDGE_HUMAN_PROMPT = \"\"\"\n",
    "[The Meeting Transcript] {transcript}\n",
    "\n",
    "[The Start of Assistant A's Summarization] {answer_a} [The End of Assistant A's Summarization]\n",
    "\n",
    "[The Start of Assistant B's Summarization] {answer_b} [The End of Assistant B's Summarization]\n",
    "\n",
    "Which assistant provided a better summarization?\n",
    "- Output 1 if Assistant A is better\n",
    "- Output 2 if Assistant B is better\n",
    "- Output 0 if it's a tie\n",
    "\n",
    "Return JSON format: {{\"preference\": <number>}}\"\"\""
   ],
   "outputs": [],
   "execution_count": 7
  },
  {
   "cell_type": "markdown",
   "metadata": {},
   "source": [
    "Our function will take in an `inputs` dictionary, and a list of `outputs` dictionaries for the different experiments that we want to compare."
   ]
  },
  {
   "cell_type": "code",
   "metadata": {
    "ExecuteTime": {
     "end_time": "2025-10-04T18:32:15.271670Z",
     "start_time": "2025-10-04T18:32:15.268471Z"
    }
   },
   "source": [
    "# Cell 8: Pairwise Evaluator Function\n",
    "from pydantic import BaseModel, Field\n",
    "\n",
    "class Preference(BaseModel):\n",
    "    preference: int = Field(description=\"1 if Assistant A answer is better, 2 if Assistant B answer is better, 0 if tie\")\n",
    "\n",
    "def ranked_preference(inputs: dict, outputs: list[dict]) -> list:\n",
    "    user_message = JUDGE_HUMAN_PROMPT.format(\n",
    "        transcript=inputs[\"transcript\"],\n",
    "        answer_a=outputs[0].get(\"output\", \"N/A\"),\n",
    "        answer_b=outputs[1].get(\"output\", \"N/A\")\n",
    "    )\n",
    "\n",
    "    response = anthropic_client.messages.create(\n",
    "        model=\"claude-sonnet-4-5-20250929\",\n",
    "        max_tokens=500,\n",
    "        system=JUDGE_SYSTEM_PROMPT,\n",
    "        messages=[\n",
    "            {\"role\": \"user\", \"content\": user_message}\n",
    "        ]\n",
    "    )\n",
    "\n",
    "    # Parse JSON response\n",
    "    try:\n",
    "        response_text = response.content[0].text\n",
    "        start = response_text.find(\"{\")\n",
    "        end = response_text.rfind(\"}\") + 1\n",
    "        parsed = json.loads(response_text[start:end])\n",
    "        preference_score = parsed.get(\"preference\", 0)\n",
    "    except:\n",
    "        preference_score = 0  # Default to tie\n",
    "\n",
    "    if preference_score == 1:\n",
    "        scores = [1, 0]\n",
    "    elif preference_score == 2:\n",
    "        scores = [0, 1]\n",
    "    else:\n",
    "        scores = [0, 0]\n",
    "\n",
    "    return scores"
   ],
   "outputs": [],
   "execution_count": 8
  },
  {
   "cell_type": "markdown",
   "metadata": {},
   "source": [
    "Now let's run our pairwise experiment with `evaluate()`"
   ]
  },
  {
   "cell_type": "code",
   "metadata": {
    "ExecuteTime": {
     "end_time": "2025-10-04T18:35:42.886496Z",
     "start_time": "2025-10-04T18:35:02.601188Z"
    }
   },
   "source": [
    "# Cell 9: Run Pairwise Experiment\n",
    "from langsmith import evaluate\n",
    "\n",
    "# TODO: After running cells 5 and 6, check LangSmith UI for your experiment IDs\n",
    "# Replace with your actual experiment names/IDs\n",
    "evaluate(\n",
    "    (\"Good Summarizer-7a0b855d\", \"Bad Summarizer-3ba1406c\"),\n",
    "    evaluators=[ranked_preference]\n",
    ")"
   ],
   "outputs": [
    {
     "name": "stdout",
     "output_type": "stream",
     "text": [
      "View the pairwise evaluation results at:\n",
      "https://smith.langchain.com/o/072e35aa-3a5b-404d-bd5a-459a19c5e651/datasets/a8705f7f-27ba-4efa-80f6-1a495efb564d/compare?selectedSessions=9cc63e1a-194b-4869-883c-6d2968ea1952%2C773e7fe1-3a19-4a4f-b9ea-04767af2a262&comparativeExperiment=3f29345d-5813-4fa2-bf50-798d407db006\n",
      "\n",
      "\n"
     ]
    },
    {
     "data": {
      "text/plain": [
       "  0%|          | 0/5 [00:00<?, ?it/s]"
      ],
      "application/vnd.jupyter.widget-view+json": {
       "version_major": 2,
       "version_minor": 0,
       "model_id": "a27428476af044ba82be972a92e5a7f6"
      }
     },
     "metadata": {},
     "output_type": "display_data",
     "jetTransient": {
      "display_id": null
     }
    },
    {
     "data": {
      "text/plain": [
       "<langsmith.evaluation._runner.ComparativeExperimentResults at 0x1127aa320>"
      ]
     },
     "execution_count": 9,
     "metadata": {},
     "output_type": "execute_result"
    }
   ],
   "execution_count": 9
  }
 ],
 "metadata": {
  "kernelspec": {
   "display_name": "ls-academy",
   "language": "python",
   "name": "python3"
  },
  "language_info": {
   "codemirror_mode": {
    "name": "ipython",
    "version": 3
   },
   "file_extension": ".py",
   "mimetype": "text/x-python",
   "name": "python",
   "nbconvert_exporter": "python",
   "pygments_lexer": "ipython3",
   "version": "3.9.6"
  }
 },
 "nbformat": 4,
 "nbformat_minor": 4
}
