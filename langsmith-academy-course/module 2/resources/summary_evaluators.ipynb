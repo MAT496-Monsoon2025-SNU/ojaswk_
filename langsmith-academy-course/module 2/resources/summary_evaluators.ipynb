{
 "cells": [
  {
   "cell_type": "markdown",
   "metadata": {},
   "source": [
    "# Summary Evaluators"
   ]
  },
  {
   "cell_type": "markdown",
   "metadata": {},
   "source": [
    "### Setup"
   ]
  },
  {
   "cell_type": "code",
   "execution_count": 37,
   "metadata": {},
   "outputs": [],
   "source": [
    "# You can set them inline\n",
    "import os\n",
    "os.environ[\"OPENAI_API_KEY\"] = \"\"\n",
    "os.environ[\"LANGSMITH_API_KEY\"] = \"\"\n",
    "os.environ[\"LANGSMITH_TRACING\"] = \"true\"\n",
    "os.environ[\"LANGSMITH_PROJECT\"] = \"langsmith-academy\""
   ]
  },
  {
   "cell_type": "code",
   "metadata": {
    "ExecuteTime": {
     "end_time": "2025-10-04T18:45:12.585296Z",
     "start_time": "2025-10-04T18:45:12.576300Z"
    }
   },
   "source": [
    "# Or you can use a .env file\n",
    "import os\n",
    "from dotenv import load_dotenv\n",
    "load_dotenv(dotenv_path=\"../../../.env\", override=True)\n",
    "os.environ[\"USER_AGENT\"] = \"496\"\n",
    "os.environ[\"TOKENIZERS_PARALLELISM\"] = \"false\""
   ],
   "outputs": [],
   "execution_count": 4
  },
  {
   "metadata": {
    "ExecuteTime": {
     "end_time": "2025-10-04T18:45:13.807723Z",
     "start_time": "2025-10-04T18:45:13.803052Z"
    }
   },
   "cell_type": "code",
   "source": [
    "import warnings\n",
    "import numpy as np\n",
    "\n",
    "# Suppress sklearn warnings\n",
    "warnings.filterwarnings('ignore', category=RuntimeWarning, module='sklearn')\n",
    "np.seterr(divide='ignore', invalid='ignore', over='ignore')"
   ],
   "outputs": [
    {
     "data": {
      "text/plain": [
       "{'divide': 'ignore', 'over': 'ignore', 'under': 'ignore', 'invalid': 'ignore'}"
      ]
     },
     "execution_count": 5,
     "metadata": {},
     "output_type": "execute_result"
    }
   ],
   "execution_count": 5
  },
  {
   "cell_type": "markdown",
   "metadata": {},
   "source": [
    "### Task"
   ]
  },
  {
   "cell_type": "markdown",
   "metadata": {},
   "source": [
    "Our task here is to analyze the toxictity of random statements, classifying them as `Toxic` or `Not toxic`. \n",
    "\n",
    "Take a look at our dataset!"
   ]
  },
  {
   "cell_type": "code",
   "metadata": {
    "ExecuteTime": {
     "end_time": "2025-10-04T18:45:17.739832Z",
     "start_time": "2025-10-04T18:45:15.169597Z"
    }
   },
   "source": [
    "# Cell 3: Clone the public dataset\n",
    "from langsmith import Client\n",
    "\n",
    "client = Client()\n",
    "dataset = client.clone_public_dataset(\n",
    "    \"https://smith.langchain.com/public/89ef0d44-a252-4011-8bb8-6a114afc1522/d\"\n",
    ")"
   ],
   "outputs": [],
   "execution_count": 6
  },
  {
   "cell_type": "markdown",
   "metadata": {},
   "source": [
    "This is a simple toxicity classifier!"
   ]
  },
  {
   "cell_type": "code",
   "metadata": {
    "ExecuteTime": {
     "end_time": "2025-10-04T18:45:18.685930Z",
     "start_time": "2025-10-04T18:45:18.506157Z"
    }
   },
   "source": [
    "# Cell 4: Toxicity Classifier using Anthropic\n",
    "from anthropic import Anthropic\n",
    "from pydantic import BaseModel, Field\n",
    "import json\n",
    "\n",
    "anthropic_client = Anthropic()\n",
    "\n",
    "class Toxicity(BaseModel):\n",
    "    toxicity: str = Field(description=\"'Toxic' if the statement is toxic, 'Not toxic' if the statement is not toxic.\")\n",
    "\n",
    "def good_classifier(inputs: dict) -> dict:\n",
    "    prompt = f\"\"\"Classify this statement as either 'Toxic' or 'Not toxic'.\n",
    "\n",
    "Statement: {inputs['statement']}\n",
    "\n",
    "Return your response as JSON: {{\"toxicity\": \"Toxic\"}} or {{\"toxicity\": \"Not toxic\"}}\"\"\"\n",
    "\n",
    "    response = anthropic_client.messages.create(\n",
    "        model=\"claude-sonnet-4-5-20250929\",\n",
    "        max_tokens=200,\n",
    "        messages=[\n",
    "            {\n",
    "                \"role\": \"user\",\n",
    "                \"content\": prompt\n",
    "            }\n",
    "        ]\n",
    "    )\n",
    "\n",
    "    # Parse JSON response\n",
    "    try:\n",
    "        response_text = response.content[0].text\n",
    "        start = response_text.find(\"{\")\n",
    "        end = response_text.rfind(\"}\") + 1\n",
    "        parsed = json.loads(response_text[start:end])\n",
    "        toxicity_score = parsed.get(\"toxicity\", \"Not toxic\")\n",
    "    except:\n",
    "        toxicity_score = \"Not toxic\"  # Default fallback\n",
    "\n",
    "    return {\"class\": toxicity_score}"
   ],
   "outputs": [],
   "execution_count": 7
  },
  {
   "cell_type": "markdown",
   "metadata": {},
   "source": [
    "### Summary Evaluator"
   ]
  },
  {
   "cell_type": "markdown",
   "metadata": {},
   "source": [
    "These are the fields that summary evaluator functions get access to:\n",
    "- `inputs: list[dict]`: A list of inputs from the examples in our dataset\n",
    "- `outputs: list[dict]`: A list of the dict outputs produced from running our target over each input\n",
    "- `reference_outputs: list[dict]`: A list of reference_outputs from the examples in our dataset\n",
    "- `runs: list[Run]`: A list of the Run objects from running our target over the dataset.\n",
    "- `examples: list[Example]`: A list of the full dataset Examples, including the example inputs, outputs (if available), and metdata (if available)."
   ]
  },
  {
   "cell_type": "markdown",
   "metadata": {},
   "source": [
    "Now we'll define our summary evaluator! Here, we'll compute the f1-score, which is a combination of precision and recall.\n",
    "\n",
    "This sort of metric can only be computed over all of the examples in our experiment, so our evaluator takes in a list of outputs, and a list of reference_outputs."
   ]
  },
  {
   "cell_type": "code",
   "metadata": {
    "ExecuteTime": {
     "end_time": "2025-10-04T18:45:21.070720Z",
     "start_time": "2025-10-04T18:45:21.066836Z"
    }
   },
   "source": [
    "# Cell 5: F1 Score Summary Evaluator (NO CHANGES NEEDED)\n",
    "def f1_score_summary_evaluator(outputs: list[dict], reference_outputs: list[dict]) -> dict:\n",
    "    true_positives = 0\n",
    "    false_positives = 0\n",
    "    false_negatives = 0\n",
    "\n",
    "    for output_dict, reference_output_dict in zip(outputs, reference_outputs):\n",
    "        output = output_dict[\"class\"]\n",
    "        reference_output = reference_output_dict[\"class\"]\n",
    "\n",
    "        if output == \"Toxic\" and reference_output == \"Toxic\":\n",
    "            true_positives += 1\n",
    "        elif output == \"Toxic\" and reference_output == \"Not toxic\":\n",
    "            false_positives += 1\n",
    "        elif output == \"Not toxic\" and reference_output == \"Toxic\":\n",
    "            false_negatives += 1\n",
    "\n",
    "    if true_positives == 0:\n",
    "        return {\"key\": \"f1_score\", \"score\": 0.0}\n",
    "\n",
    "    precision = true_positives / (true_positives + false_positives)\n",
    "    recall = true_positives / (true_positives + false_negatives)\n",
    "    f1_score = 2 * (precision * recall) / (precision + recall)\n",
    "\n",
    "    return {\"key\": \"f1_score\", \"score\": f1_score}"
   ],
   "outputs": [],
   "execution_count": 8
  },
  {
   "cell_type": "markdown",
   "metadata": {},
   "source": [
    "Note that we pass in `f1_score_summary_evaluator` as a summary evaluator!"
   ]
  },
  {
   "cell_type": "code",
   "metadata": {
    "ExecuteTime": {
     "end_time": "2025-10-04T18:45:48.918448Z",
     "start_time": "2025-10-04T18:45:22.928855Z"
    }
   },
   "source": [
    "# Cell 6: Run Evaluation with Summary Evaluator\n",
    "results = client.evaluate(\n",
    "    good_classifier,\n",
    "    data=dataset,\n",
    "    summary_evaluators=[f1_score_summary_evaluator],\n",
    "    experiment_prefix=\"Good classifier\"\n",
    ")"
   ],
   "outputs": [
    {
     "name": "stdout",
     "output_type": "stream",
     "text": [
      "View the evaluation results for experiment: 'Good classifier-d5bff65a' at:\n",
      "https://smith.langchain.com/o/072e35aa-3a5b-404d-bd5a-459a19c5e651/datasets/a13f9e86-1c7e-449a-9210-b9b353b40762/compare?selectedSessions=02fd6d64-a283-400f-be20-bb0b3f366949\n",
      "\n",
      "\n"
     ]
    },
    {
     "data": {
      "text/plain": [
       "0it [00:00, ?it/s]"
      ],
      "application/vnd.jupyter.widget-view+json": {
       "version_major": 2,
       "version_minor": 0,
       "model_id": "6264abef1f074bbaac2fc6f764e61aa8"
      }
     },
     "metadata": {},
     "output_type": "display_data",
     "jetTransient": {
      "display_id": null
     }
    }
   ],
   "execution_count": 9
  }
 ],
 "metadata": {
  "kernelspec": {
   "display_name": "ls-academy",
   "language": "python",
   "name": "python3"
  },
  "language_info": {
   "codemirror_mode": {
    "name": "ipython",
    "version": 3
   },
   "file_extension": ".py",
   "mimetype": "text/x-python",
   "name": "python",
   "nbconvert_exporter": "python",
   "pygments_lexer": "ipython3",
   "version": "3.9.6"
  }
 },
 "nbformat": 4,
 "nbformat_minor": 4
}
