{
 "cells": [
  {
   "cell_type": "code",
   "id": "7963b495",
   "metadata": {
    "ExecuteTime": {
     "end_time": "2025-09-22T04:10:18.574422Z",
     "start_time": "2025-09-22T04:10:18.564652Z"
    }
   },
   "source": [
    "import os\n",
    "from IPython.display import Markdown\n",
    "from dotenv import load_dotenv\n",
    "load_dotenv(override=True)\n"
   ],
   "outputs": [
    {
     "data": {
      "text/plain": [
       "True"
      ]
     },
     "execution_count": 1,
     "metadata": {},
     "output_type": "execute_result"
    }
   ],
   "execution_count": 1
  },
  {
   "cell_type": "markdown",
   "id": "f29aceec",
   "metadata": {},
   "source": [
    "# Web Search"
   ]
  },
  {
   "cell_type": "markdown",
   "id": "596550b2",
   "metadata": {},
   "source": [
    "## Google Serper"
   ]
  },
  {
   "cell_type": "code",
   "id": "c37124a3",
   "metadata": {
    "ExecuteTime": {
     "end_time": "2025-09-22T04:10:22.143379Z",
     "start_time": "2025-09-22T04:10:20.484787Z"
    }
   },
   "source": [
    "import http.client\n",
    "import json\n",
    "\n",
    "conn = http.client.HTTPSConnection(\"google.serper.dev\")\n",
    "payload = json.dumps({\n",
    "  \"q\": \"Ojasw Kant\",\n",
    "  \"gl\": \"in\"\n",
    "})\n",
    "headers = {\n",
    "  'X-API-KEY': os.environ.get(\"SERPER_API_KEY\"),\n",
    "  'Content-Type': 'application/json'\n",
    "}\n",
    "conn.request(\"POST\", \"/search\", payload, headers)\n",
    "res = conn.getresponse()\n",
    "data = res.read()\n",
    "print(data.decode(\"utf-8\"))"
   ],
   "outputs": [
    {
     "name": "stdout",
     "output_type": "stream",
     "text": [
      "{\"searchParameters\":{\"q\":\"Ojasw Kant\",\"gl\":\"in\",\"type\":\"search\",\"engine\":\"google\"},\"searchInformation\":{\"didYouMean\":\"Ojasv Kant\"},\"organic\":[{\"title\":\"Ojasw Kant - Student at Shiv Nadar University\",\"link\":\"https://in.linkedin.com/in/ojasw-kant-169aa032a\",\"snippet\":\"Student at Shiv Nadar University · Education: Shiv Nadar University · Location: South Delhi · 27 connections on LinkedIn. View Ojasw Kant's profile on ...\",\"position\":1},{\"title\":\"3rd Place IAM3D Competition ASME EFx India 2025 • Ojasw Kant ...\",\"link\":\"https://credentials.asme.org/072e1fc2-e11f-41bd-9eef-29504d6fd043\",\"snippet\":\"Ojasw Kant. View All Credentials. The ASME IAM3D Unmanned Aerial Racing Cargo Vehicle (U.A.R.C.V.) competition tasks university students to use additive ...\",\"position\":2},{\"title\":\"Batch After School - Pushp Vihar\",\"link\":\"https://www.birla.ac.in/batch-after-school.html\",\"snippet\":\"Engineering. 48, Ayush Pathak, XII C, SRM University, Engineering. 49, Ojasw Kant, XII C, Lovely Professional University, Engineering. 50, Disha singh, XII A ...\",\"position\":3},{\"title\":\"Ojasw Kant\",\"link\":\"https://www.kaggle.com/ojaswkant\",\"snippet\":\"Kaggle profile for Ojasw Kant.\",\"position\":4},{\"title\":\"Registered Teams | ICPC Kanpur Site\",\"link\":\"https://kanpur.indiaicpc.in/?page_id=680\",\"snippet\":\"Ojasw Kant, CONTESTANT Daksh Jain, CONTESTANT. 1029809, JABBIT, Shiv Nadar University, Balamurugan Balusamy, COACH Adwit Gautam, CONTESTANT\",\"date\":\"16 Nov 2024\",\"position\":5},{\"title\":\"q uantum v 1.0\",\"link\":\"https://airforcebalbharatischool.in/pdf/Results_Quantum.pdf\",\"snippet\":\"OJASW KANT. PRAKHAR ALOK SEMWAL. DELHI PUBLIC SCHOOL, VASANT KUNJ. 3. KETAN PAL. Page 12. q uantum v1.0. THUNDERCODE mount saint mary dps, vasant kunj. 2. 1.\",\"position\":6},{\"title\":\"Birla Vidya Niketan : BVN - 11 July 2022 Alumni Talk 2.1 ...\",\"link\":\"https://www.facebook.com/photo.php?fbid=2604130426389058&id=166352420166883&set=a.1084012535067529\",\"snippet\":\"Credits: Team CodeTech Ojasw Kant Aryan Sharma Divye Chandwani Samridh Garg Subhajit Behura. Chhamta Hajela and 86 others · 87 · · 1 ...\",\"date\":\"3 years ago\",\"position\":7},{\"title\":\"Happy to share that “PATHFINDER drone\\\" made by our school ...\",\"link\":\"https://www.facebook.com/atlbvndelhi/videos/happy-to-share-that-pathfinder-drone-made-by-our-school-team-divye-chandwani-ix-/2716226931741526/\",\"snippet\":\"Happy to share that “PATHFINDER drone\\\" made by our school team (Divye Chandwani (IX), Prashant Gupta (X) & Ojasw Kant (IX)) has won the prestigous “School of ...\",\"position\":8},{\"title\":\"Students work gitbub link - Freebirds Moodle\",\"link\":\"https://moodle.freebirds.co.in/mod/data/view.php?d=1&advanced=0&paging&page=1\",\"snippet\":\"OJASW KANT 12 Sept 2025. Last edited: 12 Sept 2025. Show more. Your github repo links. https://github.com/MAT496-Monsoon2025-SNU/ojaswk_. Tags.\",\"position\":9},{\"title\":\"Divvy Computronix: Laptop & MacBook Repair Experts in ...\",\"link\":\"https://divvycomputronix.com/\",\"snippet\":\"Ojasw Kant. Our Clientele. broken surface contact image. Get your device repaired instantly. Contact us via this form and we'll get back to you as soon as ...\",\"position\":10}],\"credits\":1}\n"
     ]
    }
   ],
   "execution_count": 2
  },
  {
   "cell_type": "code",
   "id": "b9202b95",
   "metadata": {
    "ExecuteTime": {
     "end_time": "2025-09-22T04:10:23.808524Z",
     "start_time": "2025-09-22T04:10:23.803841Z"
    }
   },
   "source": [
    "data"
   ],
   "outputs": [
    {
     "data": {
      "text/plain": [
       "b'{\"searchParameters\":{\"q\":\"Ojasw Kant\",\"gl\":\"in\",\"type\":\"search\",\"engine\":\"google\"},\"searchInformation\":{\"didYouMean\":\"Ojasv Kant\"},\"organic\":[{\"title\":\"Ojasw Kant - Student at Shiv Nadar University\",\"link\":\"https://in.linkedin.com/in/ojasw-kant-169aa032a\",\"snippet\":\"Student at Shiv Nadar University \\xc2\\xb7 Education: Shiv Nadar University \\xc2\\xb7 Location: South Delhi \\xc2\\xb7 27 connections on LinkedIn. View Ojasw Kant\\'s profile on ...\",\"position\":1},{\"title\":\"3rd Place IAM3D Competition ASME EFx India 2025 \\xe2\\x80\\xa2 Ojasw Kant ...\",\"link\":\"https://credentials.asme.org/072e1fc2-e11f-41bd-9eef-29504d6fd043\",\"snippet\":\"Ojasw Kant. View All Credentials. The ASME IAM3D Unmanned Aerial Racing Cargo Vehicle (U.A.R.C.V.) competition tasks university students to use additive ...\",\"position\":2},{\"title\":\"Batch After School - Pushp Vihar\",\"link\":\"https://www.birla.ac.in/batch-after-school.html\",\"snippet\":\"Engineering. 48, Ayush Pathak, XII C, SRM University, Engineering. 49, Ojasw Kant, XII C, Lovely Professional University, Engineering. 50, Disha singh, XII A ...\",\"position\":3},{\"title\":\"Ojasw Kant\",\"link\":\"https://www.kaggle.com/ojaswkant\",\"snippet\":\"Kaggle profile for Ojasw Kant.\",\"position\":4},{\"title\":\"Registered Teams | ICPC Kanpur Site\",\"link\":\"https://kanpur.indiaicpc.in/?page_id=680\",\"snippet\":\"Ojasw Kant, CONTESTANT Daksh Jain, CONTESTANT. 1029809, JABBIT, Shiv Nadar University, Balamurugan Balusamy, COACH Adwit Gautam, CONTESTANT\",\"date\":\"16 Nov 2024\",\"position\":5},{\"title\":\"q uantum v 1.0\",\"link\":\"https://airforcebalbharatischool.in/pdf/Results_Quantum.pdf\",\"snippet\":\"OJASW KANT. PRAKHAR ALOK SEMWAL. DELHI PUBLIC SCHOOL, VASANT KUNJ. 3. KETAN PAL. Page 12. q uantum v1.0. THUNDERCODE mount saint mary dps, vasant kunj. 2. 1.\",\"position\":6},{\"title\":\"Birla Vidya Niketan : BVN - 11 July 2022 Alumni Talk 2.1 ...\",\"link\":\"https://www.facebook.com/photo.php?fbid=2604130426389058&id=166352420166883&set=a.1084012535067529\",\"snippet\":\"Credits: Team CodeTech Ojasw Kant Aryan Sharma Divye Chandwani Samridh Garg Subhajit Behura. Chhamta Hajela and 86 others \\xc2\\xb7 87 \\xc2\\xb7 \\xc2\\xb7 1 ...\",\"date\":\"3 years ago\",\"position\":7},{\"title\":\"Happy to share that \\xe2\\x80\\x9cPATHFINDER drone\\\\\" made by our school ...\",\"link\":\"https://www.facebook.com/atlbvndelhi/videos/happy-to-share-that-pathfinder-drone-made-by-our-school-team-divye-chandwani-ix-/2716226931741526/\",\"snippet\":\"Happy to share that \\xe2\\x80\\x9cPATHFINDER drone\\\\\" made by our school team (Divye Chandwani (IX), Prashant Gupta (X) & Ojasw Kant (IX)) has won the prestigous \\xe2\\x80\\x9cSchool of ...\",\"position\":8},{\"title\":\"Students work gitbub link - Freebirds Moodle\",\"link\":\"https://moodle.freebirds.co.in/mod/data/view.php?d=1&advanced=0&paging&page=1\",\"snippet\":\"OJASW KANT 12 Sept 2025. Last edited: 12 Sept 2025. Show more. Your github repo links. https://github.com/MAT496-Monsoon2025-SNU/ojaswk_. Tags.\",\"position\":9},{\"title\":\"Divvy Computronix: Laptop & MacBook Repair Experts in ...\",\"link\":\"https://divvycomputronix.com/\",\"snippet\":\"Ojasw Kant. Our Clientele. broken surface contact image. Get your device repaired instantly. Contact us via this form and we\\'ll get back to you as soon as ...\",\"position\":10}],\"credits\":1}'"
      ]
     },
     "execution_count": 3,
     "metadata": {},
     "output_type": "execute_result"
    }
   ],
   "execution_count": 3
  },
  {
   "cell_type": "code",
   "id": "b3095312",
   "metadata": {
    "ExecuteTime": {
     "end_time": "2025-09-22T04:10:30.427458Z",
     "start_time": "2025-09-22T04:10:30.424618Z"
    }
   },
   "source": [
    "import json\n",
    "\n",
    "data_dict = json.loads(data.decode(\"utf-8\"))"
   ],
   "outputs": [],
   "execution_count": 4
  },
  {
   "cell_type": "code",
   "id": "bcf3ca55",
   "metadata": {
    "ExecuteTime": {
     "end_time": "2025-09-22T04:10:31.768574Z",
     "start_time": "2025-09-22T04:10:31.763780Z"
    }
   },
   "source": [
    "data_dict['organic']"
   ],
   "outputs": [
    {
     "data": {
      "text/plain": [
       "[{'title': 'Ojasw Kant - Student at Shiv Nadar University',\n",
       "  'link': 'https://in.linkedin.com/in/ojasw-kant-169aa032a',\n",
       "  'snippet': \"Student at Shiv Nadar University · Education: Shiv Nadar University · Location: South Delhi · 27 connections on LinkedIn. View Ojasw Kant's profile on ...\",\n",
       "  'position': 1},\n",
       " {'title': '3rd Place IAM3D Competition ASME EFx India 2025 • Ojasw Kant ...',\n",
       "  'link': 'https://credentials.asme.org/072e1fc2-e11f-41bd-9eef-29504d6fd043',\n",
       "  'snippet': 'Ojasw Kant. View All Credentials. The ASME IAM3D Unmanned Aerial Racing Cargo Vehicle (U.A.R.C.V.) competition tasks university students to use additive ...',\n",
       "  'position': 2},\n",
       " {'title': 'Batch After School - Pushp Vihar',\n",
       "  'link': 'https://www.birla.ac.in/batch-after-school.html',\n",
       "  'snippet': 'Engineering. 48, Ayush Pathak, XII C, SRM University, Engineering. 49, Ojasw Kant, XII C, Lovely Professional University, Engineering. 50, Disha singh, XII A ...',\n",
       "  'position': 3},\n",
       " {'title': 'Ojasw Kant',\n",
       "  'link': 'https://www.kaggle.com/ojaswkant',\n",
       "  'snippet': 'Kaggle profile for Ojasw Kant.',\n",
       "  'position': 4},\n",
       " {'title': 'Registered Teams | ICPC Kanpur Site',\n",
       "  'link': 'https://kanpur.indiaicpc.in/?page_id=680',\n",
       "  'snippet': 'Ojasw Kant, CONTESTANT Daksh Jain, CONTESTANT. 1029809, JABBIT, Shiv Nadar University, Balamurugan Balusamy, COACH Adwit Gautam, CONTESTANT',\n",
       "  'date': '16 Nov 2024',\n",
       "  'position': 5},\n",
       " {'title': 'q uantum v 1.0',\n",
       "  'link': 'https://airforcebalbharatischool.in/pdf/Results_Quantum.pdf',\n",
       "  'snippet': 'OJASW KANT. PRAKHAR ALOK SEMWAL. DELHI PUBLIC SCHOOL, VASANT KUNJ. 3. KETAN PAL. Page 12. q uantum v1.0. THUNDERCODE mount saint mary dps, vasant kunj. 2. 1.',\n",
       "  'position': 6},\n",
       " {'title': 'Birla Vidya Niketan : BVN - 11 July 2022 Alumni Talk 2.1 ...',\n",
       "  'link': 'https://www.facebook.com/photo.php?fbid=2604130426389058&id=166352420166883&set=a.1084012535067529',\n",
       "  'snippet': 'Credits: Team CodeTech Ojasw Kant Aryan Sharma Divye Chandwani Samridh Garg Subhajit Behura. Chhamta Hajela and 86 others · 87 · · 1 ...',\n",
       "  'date': '3 years ago',\n",
       "  'position': 7},\n",
       " {'title': 'Happy to share that “PATHFINDER drone\" made by our school ...',\n",
       "  'link': 'https://www.facebook.com/atlbvndelhi/videos/happy-to-share-that-pathfinder-drone-made-by-our-school-team-divye-chandwani-ix-/2716226931741526/',\n",
       "  'snippet': 'Happy to share that “PATHFINDER drone\" made by our school team (Divye Chandwani (IX), Prashant Gupta (X) & Ojasw Kant (IX)) has won the prestigous “School of ...',\n",
       "  'position': 8},\n",
       " {'title': 'Students work gitbub link - Freebirds Moodle',\n",
       "  'link': 'https://moodle.freebirds.co.in/mod/data/view.php?d=1&advanced=0&paging&page=1',\n",
       "  'snippet': 'OJASW KANT 12 Sept 2025. Last edited: 12 Sept 2025. Show more. Your github repo links. https://github.com/MAT496-Monsoon2025-SNU/ojaswk_. Tags.',\n",
       "  'position': 9},\n",
       " {'title': 'Divvy Computronix: Laptop & MacBook Repair Experts in ...',\n",
       "  'link': 'https://divvycomputronix.com/',\n",
       "  'snippet': \"Ojasw Kant. Our Clientele. broken surface contact image. Get your device repaired instantly. Contact us via this form and we'll get back to you as soon as ...\",\n",
       "  'position': 10}]"
      ]
     },
     "execution_count": 5,
     "metadata": {},
     "output_type": "execute_result"
    }
   ],
   "execution_count": 5
  },
  {
   "cell_type": "code",
   "execution_count": null,
   "id": "10b63f2a",
   "metadata": {},
   "outputs": [],
   "source": []
  },
  {
   "cell_type": "markdown",
   "id": "b3d808d0",
   "metadata": {},
   "source": [
    "## Tavily\n",
    "\n"
   ]
  },
  {
   "cell_type": "code",
   "id": "f71712ec",
   "metadata": {
    "ExecuteTime": {
     "end_time": "2025-09-16T09:39:15.254596Z",
     "start_time": "2025-09-16T09:39:15.250801Z"
    }
   },
   "source": "#  !pip install -U langchain-tavily",
   "outputs": [],
   "execution_count": 17
  },
  {
   "cell_type": "code",
   "id": "ebc88077",
   "metadata": {
    "ExecuteTime": {
     "end_time": "2025-09-22T04:10:36.195943Z",
     "start_time": "2025-09-22T04:10:35.554215Z"
    }
   },
   "source": [
    "from langchain_tavily import TavilySearch\n",
    "\n",
    "tool = TavilySearch(\n",
    "    max_results=5,\n",
    "    topic=\"general\",\n",
    "    # include_answer=False,\n",
    "    # include_raw_content=False,\n",
    "    # include_images=False,\n",
    "    # include_image_descriptions=False,\n",
    "    # search_depth=\"basic\",\n",
    "    # time_range=\"day\",\n",
    "    # include_domains=None,\n",
    "    # exclude_domains=None\n",
    ")"
   ],
   "outputs": [],
   "execution_count": 6
  },
  {
   "cell_type": "code",
   "id": "433dd7ca",
   "metadata": {
    "ExecuteTime": {
     "end_time": "2025-09-22T04:10:40.398261Z",
     "start_time": "2025-09-22T04:10:37.722640Z"
    }
   },
   "source": "tool.invoke({\"query\": \"Ojasw Kant\"})",
   "outputs": [
    {
     "data": {
      "text/plain": [
       "{'query': 'Ojasw Kant',\n",
       " 'follow_up_questions': None,\n",
       " 'answer': None,\n",
       " 'images': [],\n",
       " 'results': [{'url': 'https://credentials.asme.org/072e1fc2-e11f-41bd-9eef-29504d6fd043',\n",
       "   'title': '3rd Place IAM3D Competition ASME EFx India 2025 • Ojasw Kant ...',\n",
       "   'content': 'Ojasw Kant. View All Credentials. The ASME IAM3D Unmanned Aerial Racing Cargo Vehicle (U.A.R.C.V.) competition tasks university students to use additive',\n",
       "   'score': 0.6337056,\n",
       "   'raw_content': None},\n",
       "  {'url': 'https://www.kaggle.com/ojaswkant',\n",
       "   'title': 'Ojasw Kant | Kaggle',\n",
       "   'content': 'Kaggle profile for Ojasw Kant.',\n",
       "   'score': 0.57293844,\n",
       "   'raw_content': None},\n",
       "  {'url': 'https://airforcebalbharatischool.in/pdf/Results_Quantum.pdf',\n",
       "   'title': '[PDF] q uantum v 1.0 - Air Force Bal Bharati School Delhi',\n",
       "   'content': 'OJASW KANT. PRAKHAR ALOK SEMWAL. DELHI PUBLIC SCHOOL, VASANT KUNJ. 3. KETAN PAL. Page 12. q uantum v1.0. THUNDERCODE mount saint mary dps, vasant kunj. 2. 1.',\n",
       "   'score': 0.5417246,\n",
       "   'raw_content': None},\n",
       "  {'url': 'https://in.linkedin.com/in/ojasw-kant-169aa032a',\n",
       "   'title': 'Ojasw Kant - Student at Shiv Nadar University - LinkedIn',\n",
       "   'content': \"Student at Shiv Nadar University · Education: Shiv Nadar University · Location: South Delhi · 27 connections on LinkedIn. View Ojasw Kant's profile on\",\n",
       "   'score': 0.5379402,\n",
       "   'raw_content': None},\n",
       "  {'url': 'https://moodle.freebirds.co.in/mod/data/view.php?d=1&advanced=0&paging&page=1',\n",
       "   'title': 'Students work gitbub link | Introduction to Large Language Models',\n",
       "   'content': 'OJASW KANT 12 Sept 2025. Last edited: 12 Sept 2025. Show more. Your github repo links. https://github.com/MAT496-Monsoon2025-SNU/ojaswk_. Tags.',\n",
       "   'score': 0.5366292,\n",
       "   'raw_content': None}],\n",
       " 'response_time': 0.81,\n",
       " 'request_id': 'fc1817ee-2e5c-4eda-acce-c9ab0d354d2c'}"
      ]
     },
     "execution_count": 7,
     "metadata": {},
     "output_type": "execute_result"
    }
   ],
   "execution_count": 7
  },
  {
   "metadata": {},
   "cell_type": "markdown",
   "source": [
    "### Homework:\n",
    "To create a web browsing agent that is an LLM capable of browsing web, but only if confidence in its answer is low, or if the relevenat information is not present with the llm."
   ],
   "id": "f5b6d5696d6d929e"
  },
  {
   "metadata": {},
   "cell_type": "code",
   "outputs": [],
   "execution_count": null,
   "source": "",
   "id": "364b9b2c087ea9fc"
  }
 ],
 "metadata": {
  "kernelspec": {
   "display_name": "mat496-monsoon2025",
   "language": "python",
   "name": "python3"
  },
  "language_info": {
   "codemirror_mode": {
    "name": "ipython",
    "version": 3
   },
   "file_extension": ".py",
   "mimetype": "text/x-python",
   "name": "python",
   "nbconvert_exporter": "python",
   "pygments_lexer": "ipython3",
   "version": "3.12.11"
  }
 },
 "nbformat": 4,
 "nbformat_minor": 5
}
