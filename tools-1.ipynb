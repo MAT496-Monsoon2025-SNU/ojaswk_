{
 "cells": [
  {
   "cell_type": "code",
   "id": "7963b495",
   "metadata": {
    "ExecuteTime": {
     "end_time": "2025-09-16T09:39:04.483971Z",
     "start_time": "2025-09-16T09:39:04.476544Z"
    }
   },
   "source": [
    "import os\n",
    "from dotenv import load_dotenv\n",
    "load_dotenv(override=True)\n"
   ],
   "outputs": [
    {
     "data": {
      "text/plain": [
       "True"
      ]
     },
     "execution_count": 12,
     "metadata": {},
     "output_type": "execute_result"
    }
   ],
   "execution_count": 12
  },
  {
   "cell_type": "markdown",
   "id": "f29aceec",
   "metadata": {},
   "source": [
    "# Web Search"
   ]
  },
  {
   "cell_type": "markdown",
   "id": "596550b2",
   "metadata": {},
   "source": [
    "## Google Serper"
   ]
  },
  {
   "cell_type": "code",
   "id": "c37124a3",
   "metadata": {
    "ExecuteTime": {
     "end_time": "2025-09-16T09:39:07.453156Z",
     "start_time": "2025-09-16T09:39:05.696917Z"
    }
   },
   "source": [
    "import http.client\n",
    "import json\n",
    "\n",
    "conn = http.client.HTTPSConnection(\"google.serper.dev\")\n",
    "payload = json.dumps({\n",
    "  \"q\": \"Ajit Kumar Shiv Nadar University\",\n",
    "  \"gl\": \"in\"\n",
    "})\n",
    "headers = {\n",
    "  'X-API-KEY': os.environ.get(\"SERPER_API_KEY\"),\n",
    "  'Content-Type': 'application/json'\n",
    "}\n",
    "conn.request(\"POST\", \"/search\", payload, headers)\n",
    "res = conn.getresponse()\n",
    "data = res.read()\n",
    "print(data.decode(\"utf-8\"))"
   ],
   "outputs": [
    {
     "name": "stdout",
     "output_type": "stream",
     "text": [
      "{\"searchParameters\":{\"q\":\"Ajit Kumar Shiv Nadar University\",\"gl\":\"in\",\"type\":\"search\",\"engine\":\"google\"},\"organic\":[{\"title\":\"Ajit Kumar\",\"link\":\"https://snu.edu.in/faculty/ajit-kumar/\",\"snippet\":\"Assistant Professor, School of Natural Sciences. Contact Information: Biography, Scholarly Activities, Research Interest, Education, 2011, Ph.D., Mathematics, ...\",\"position\":1},{\"title\":\"Ajit Kumar\",\"subtitle\":\"Noida, Uttar Pradesh, India · Assistant Professor of Mathematics · Shiv Nadar University\",\"link\":\"https://in.linkedin.com/in/ajit-kumar-81346352\",\"snippet\":\"As a faculty member, my primary expertise lies in teaching Applied Mathematics courses. I enjoy developing applications and writing code to solve real-world ...\",\"position\":2},{\"title\":\"Ajit Kumar | School of Engineering\",\"link\":\"https://snu.edu.in/schools/school-of-engineering/faculty/ajit-kumar/\",\"snippet\":\"Ajit Kumar. Assistant Professor School of Natural Sciences. Contact Information. Email: ajit.kumar@snu.edu.in; Number: Ext 270. Biography. Research Interest.\",\"position\":3},{\"title\":\"Ajit KUMAR | Shiv Nadar University, Dādri | Mathematics\",\"link\":\"https://www.researchgate.net/profile/Ajit-Kumar-76\",\"snippet\":\"Ajit KUMAR | Cited by 100 | of Shiv Nadar University, Dādri | Read 7 publications | Contact Ajit KUMAR.\",\"position\":4},{\"title\":\"B.Sc. ( Research ) In Mathematics India\",\"link\":\"https://snu.edu.in/departments/department-of-mathematics/\",\"snippet\":\"Faculty at Department of Mathematics · A. Satyanarayana Reddy · Ajit Kumar · Amber Habib · Chandranandan Gangopadhyay · Charu Sharma · Dipti Dubey · Indranil Biswas.\",\"position\":5},{\"title\":\"Ajit Kumar - Graphy\",\"link\":\"https://krajit.graphy.com/\",\"snippet\":\"Join Ajit Kumar and dive into diverse subjects and linguistic richness. ... Shiv Nadar University. Features.. Comprehensive Courses. Explore a wide range ...\",\"position\":6},{\"title\":\"Our Team\",\"link\":\"https://snu.edu.in/summit/our-team/\",\"snippet\":\"OUR TEAM ; Convenor: Dr Partha Chatterjee ; Co-Convenors: Dr Shabana Mitra, Dr Ankur Mehra, Dr Ajit Kumar, Dr Balamurugan Balusamy ; Student Chair: Aneesh ...\",\"position\":7},{\"title\":\"Dr. Ajit Kumar\",\"link\":\"https://scholar.google.com/citations?user=IVuwuEwAAAAJ&hl=en\",\"snippet\":\"Bimlesh LochabProfessor, Shiv Nadar UniversityVerified email at snu.edu.in ... SM Abhinanda Sengupta, Ajit Kumar, Gayatree Barik, Aakash Ahuja, Jit Ghosh ...\",\"position\":8},{\"title\":\"Faculty | School of Natural Sciences\",\"link\":\"https://snu.edu.in/schools/school-of-natural-sciences/faculty/\",\"snippet\":\"Aastha Dheer. Ramalingaswami Re-entry Fellow. Department of Life Sciences. Ajit Kumar. Assistant Professor School of Natural Sciences. Department ...\",\"position\":9},{\"title\":\"Research Excellence Initiatives\",\"link\":\"https://snu.edu.in/research/research-excellence-initiatives/\",\"snippet\":\"Ajit Kumar (Mathematics) | External Investigator: Dr. Gopalakrishnan Ananthanarayanan, Associate Professor, Center for Computational Engineering ...\",\"position\":10}],\"credits\":1}\n"
     ]
    }
   ],
   "execution_count": 13
  },
  {
   "cell_type": "code",
   "id": "b9202b95",
   "metadata": {
    "ExecuteTime": {
     "end_time": "2025-09-16T09:39:09.191961Z",
     "start_time": "2025-09-16T09:39:09.186261Z"
    }
   },
   "source": [
    "data"
   ],
   "outputs": [
    {
     "data": {
      "text/plain": [
       "b'{\"searchParameters\":{\"q\":\"Ajit Kumar Shiv Nadar University\",\"gl\":\"in\",\"type\":\"search\",\"engine\":\"google\"},\"organic\":[{\"title\":\"Ajit Kumar\",\"link\":\"https://snu.edu.in/faculty/ajit-kumar/\",\"snippet\":\"Assistant Professor, School of Natural Sciences. Contact Information: Biography, Scholarly Activities, Research Interest, Education, 2011, Ph.D., Mathematics, ...\",\"position\":1},{\"title\":\"Ajit Kumar\",\"subtitle\":\"Noida, Uttar Pradesh, India \\xc2\\xb7 Assistant Professor of Mathematics \\xc2\\xb7 Shiv Nadar University\",\"link\":\"https://in.linkedin.com/in/ajit-kumar-81346352\",\"snippet\":\"As a faculty member, my primary expertise lies in teaching Applied Mathematics courses. I enjoy developing applications and writing code to solve real-world ...\",\"position\":2},{\"title\":\"Ajit Kumar | School of Engineering\",\"link\":\"https://snu.edu.in/schools/school-of-engineering/faculty/ajit-kumar/\",\"snippet\":\"Ajit Kumar. Assistant Professor School of Natural Sciences. Contact Information. Email: ajit.kumar@snu.edu.in; Number: Ext 270. Biography. Research Interest.\",\"position\":3},{\"title\":\"Ajit KUMAR | Shiv Nadar University, D\\xc4\\x81dri | Mathematics\",\"link\":\"https://www.researchgate.net/profile/Ajit-Kumar-76\",\"snippet\":\"Ajit KUMAR | Cited by 100 | of Shiv Nadar University, D\\xc4\\x81dri | Read 7 publications | Contact Ajit KUMAR.\",\"position\":4},{\"title\":\"B.Sc. ( Research ) In Mathematics India\",\"link\":\"https://snu.edu.in/departments/department-of-mathematics/\",\"snippet\":\"Faculty at Department of Mathematics \\xc2\\xb7 A. Satyanarayana Reddy \\xc2\\xb7 Ajit Kumar \\xc2\\xb7 Amber Habib \\xc2\\xb7 Chandranandan Gangopadhyay \\xc2\\xb7 Charu Sharma \\xc2\\xb7 Dipti Dubey \\xc2\\xb7 Indranil Biswas.\",\"position\":5},{\"title\":\"Ajit Kumar - Graphy\",\"link\":\"https://krajit.graphy.com/\",\"snippet\":\"Join Ajit Kumar and dive into diverse subjects and linguistic richness. ... Shiv Nadar University. Features.. Comprehensive Courses. Explore a wide range ...\",\"position\":6},{\"title\":\"Our Team\",\"link\":\"https://snu.edu.in/summit/our-team/\",\"snippet\":\"OUR TEAM ; Convenor: Dr Partha Chatterjee ; Co-Convenors: Dr Shabana Mitra, Dr Ankur Mehra, Dr Ajit Kumar, Dr Balamurugan Balusamy ; Student Chair: Aneesh ...\",\"position\":7},{\"title\":\"Dr. Ajit Kumar\",\"link\":\"https://scholar.google.com/citations?user=IVuwuEwAAAAJ&hl=en\",\"snippet\":\"Bimlesh LochabProfessor, Shiv Nadar UniversityVerified email at snu.edu.in ... SM Abhinanda Sengupta, Ajit Kumar, Gayatree Barik, Aakash Ahuja, Jit Ghosh ...\",\"position\":8},{\"title\":\"Faculty | School of Natural Sciences\",\"link\":\"https://snu.edu.in/schools/school-of-natural-sciences/faculty/\",\"snippet\":\"Aastha Dheer. Ramalingaswami Re-entry Fellow. Department of Life Sciences. Ajit Kumar. Assistant Professor School of Natural Sciences. Department ...\",\"position\":9},{\"title\":\"Research Excellence Initiatives\",\"link\":\"https://snu.edu.in/research/research-excellence-initiatives/\",\"snippet\":\"Ajit Kumar (Mathematics) | External Investigator: Dr. Gopalakrishnan Ananthanarayanan, Associate Professor, Center for Computational Engineering ...\",\"position\":10}],\"credits\":1}'"
      ]
     },
     "execution_count": 14,
     "metadata": {},
     "output_type": "execute_result"
    }
   ],
   "execution_count": 14
  },
  {
   "cell_type": "code",
   "id": "b3095312",
   "metadata": {
    "ExecuteTime": {
     "end_time": "2025-09-16T09:39:10.863593Z",
     "start_time": "2025-09-16T09:39:10.859600Z"
    }
   },
   "source": [
    "import json\n",
    "\n",
    "data_dict = json.loads(data.decode(\"utf-8\"))"
   ],
   "outputs": [],
   "execution_count": 15
  },
  {
   "cell_type": "code",
   "id": "bcf3ca55",
   "metadata": {
    "ExecuteTime": {
     "end_time": "2025-09-16T09:39:13.263424Z",
     "start_time": "2025-09-16T09:39:13.255435Z"
    }
   },
   "source": [
    "data_dict['organic']"
   ],
   "outputs": [
    {
     "data": {
      "text/plain": [
       "[{'title': 'Ajit Kumar',\n",
       "  'link': 'https://snu.edu.in/faculty/ajit-kumar/',\n",
       "  'snippet': 'Assistant Professor, School of Natural Sciences. Contact Information: Biography, Scholarly Activities, Research Interest, Education, 2011, Ph.D., Mathematics, ...',\n",
       "  'position': 1},\n",
       " {'title': 'Ajit Kumar',\n",
       "  'subtitle': 'Noida, Uttar Pradesh, India · Assistant Professor of Mathematics · Shiv Nadar University',\n",
       "  'link': 'https://in.linkedin.com/in/ajit-kumar-81346352',\n",
       "  'snippet': 'As a faculty member, my primary expertise lies in teaching Applied Mathematics courses. I enjoy developing applications and writing code to solve real-world ...',\n",
       "  'position': 2},\n",
       " {'title': 'Ajit Kumar | School of Engineering',\n",
       "  'link': 'https://snu.edu.in/schools/school-of-engineering/faculty/ajit-kumar/',\n",
       "  'snippet': 'Ajit Kumar. Assistant Professor School of Natural Sciences. Contact Information. Email: ajit.kumar@snu.edu.in; Number: Ext 270. Biography. Research Interest.',\n",
       "  'position': 3},\n",
       " {'title': 'Ajit KUMAR | Shiv Nadar University, Dādri | Mathematics',\n",
       "  'link': 'https://www.researchgate.net/profile/Ajit-Kumar-76',\n",
       "  'snippet': 'Ajit KUMAR | Cited by 100 | of Shiv Nadar University, Dādri | Read 7 publications | Contact Ajit KUMAR.',\n",
       "  'position': 4},\n",
       " {'title': 'B.Sc. ( Research ) In Mathematics India',\n",
       "  'link': 'https://snu.edu.in/departments/department-of-mathematics/',\n",
       "  'snippet': 'Faculty at Department of Mathematics · A. Satyanarayana Reddy · Ajit Kumar · Amber Habib · Chandranandan Gangopadhyay · Charu Sharma · Dipti Dubey · Indranil Biswas.',\n",
       "  'position': 5},\n",
       " {'title': 'Ajit Kumar - Graphy',\n",
       "  'link': 'https://krajit.graphy.com/',\n",
       "  'snippet': 'Join Ajit Kumar and dive into diverse subjects and linguistic richness. ... Shiv Nadar University. Features.. Comprehensive Courses. Explore a wide range ...',\n",
       "  'position': 6},\n",
       " {'title': 'Our Team',\n",
       "  'link': 'https://snu.edu.in/summit/our-team/',\n",
       "  'snippet': 'OUR TEAM ; Convenor: Dr Partha Chatterjee ; Co-Convenors: Dr Shabana Mitra, Dr Ankur Mehra, Dr Ajit Kumar, Dr Balamurugan Balusamy ; Student Chair: Aneesh ...',\n",
       "  'position': 7},\n",
       " {'title': 'Dr. Ajit Kumar',\n",
       "  'link': 'https://scholar.google.com/citations?user=IVuwuEwAAAAJ&hl=en',\n",
       "  'snippet': 'Bimlesh LochabProfessor, Shiv Nadar UniversityVerified email at snu.edu.in ... SM Abhinanda Sengupta, Ajit Kumar, Gayatree Barik, Aakash Ahuja, Jit Ghosh ...',\n",
       "  'position': 8},\n",
       " {'title': 'Faculty | School of Natural Sciences',\n",
       "  'link': 'https://snu.edu.in/schools/school-of-natural-sciences/faculty/',\n",
       "  'snippet': 'Aastha Dheer. Ramalingaswami Re-entry Fellow. Department of Life Sciences. Ajit Kumar. Assistant Professor School of Natural Sciences. Department ...',\n",
       "  'position': 9},\n",
       " {'title': 'Research Excellence Initiatives',\n",
       "  'link': 'https://snu.edu.in/research/research-excellence-initiatives/',\n",
       "  'snippet': 'Ajit Kumar (Mathematics) | External Investigator: Dr. Gopalakrishnan Ananthanarayanan, Associate Professor, Center for Computational Engineering ...',\n",
       "  'position': 10}]"
      ]
     },
     "execution_count": 16,
     "metadata": {},
     "output_type": "execute_result"
    }
   ],
   "execution_count": 16
  },
  {
   "cell_type": "code",
   "execution_count": null,
   "id": "10b63f2a",
   "metadata": {},
   "outputs": [],
   "source": []
  },
  {
   "cell_type": "markdown",
   "id": "b3d808d0",
   "metadata": {},
   "source": [
    "## Tavily\n",
    "\n"
   ]
  },
  {
   "cell_type": "code",
   "id": "f71712ec",
   "metadata": {
    "ExecuteTime": {
     "end_time": "2025-09-16T09:39:15.254596Z",
     "start_time": "2025-09-16T09:39:15.250801Z"
    }
   },
   "source": "#  !pip install -U langchain-tavily",
   "outputs": [],
   "execution_count": 17
  },
  {
   "cell_type": "code",
   "id": "ebc88077",
   "metadata": {
    "ExecuteTime": {
     "end_time": "2025-09-16T09:39:17.563593Z",
     "start_time": "2025-09-16T09:39:17.558280Z"
    }
   },
   "source": [
    "from langchain_tavily import TavilySearch\n",
    "\n",
    "tool = TavilySearch(\n",
    "    max_results=5,\n",
    "    topic=\"general\",\n",
    "    # include_answer=False,\n",
    "    # include_raw_content=False,\n",
    "    # include_images=False,\n",
    "    # include_image_descriptions=False,\n",
    "    # search_depth=\"basic\",\n",
    "    # time_range=\"day\",\n",
    "    # include_domains=None,\n",
    "    # exclude_domains=None\n",
    ")"
   ],
   "outputs": [],
   "execution_count": 18
  },
  {
   "cell_type": "code",
   "id": "433dd7ca",
   "metadata": {
    "ExecuteTime": {
     "end_time": "2025-09-16T09:39:22.378125Z",
     "start_time": "2025-09-16T09:39:20.019300Z"
    }
   },
   "source": [
    "tool.invoke({\"query\": \"Ajit Kumar Shiv Nadar University\"})"
   ],
   "outputs": [
    {
     "data": {
      "text/plain": [
       "{'query': 'Ajit Kumar Shiv Nadar University',\n",
       " 'follow_up_questions': None,\n",
       " 'answer': None,\n",
       " 'images': [],\n",
       " 'results': [{'url': 'https://snu.edu.in/schools/school-of-engineering/faculty/ajit-kumar/',\n",
       "   'title': 'Ajit Kumar | School of Engineering - Shiv Nadar University',\n",
       "   'content': 'Ajit Kumar. Assistant Professor School of Natural Sciences. Contact Information. Email: ajit.kumar@snu.edu.in; Number: Ext 270. Biography. Research Interest.',\n",
       "   'score': 0.8479807,\n",
       "   'raw_content': None},\n",
       "  {'url': 'https://in.linkedin.com/in/ajit-kumar-81346352',\n",
       "   'title': 'Ajit Kumar - -- | LinkedIn',\n",
       "   'content': 'Ajit Kumar\\n--\\nNoida, Uttar Pradesh, India\\n120 connections, 129 followers\\n\\n\\nAbout\\nAs a faculty member, my primary expertise lies in teaching Applied Mathematics courses. I enjoy developing applications and writing code to solve real-world problems. Recently, my work has focused on projects involving Machine Learning and AI-related topics. Apart from research and teaching, I am involved in some projects which aim to fill few gaps in our education system. These include designing effective study habits and developing innovative tools for delivering impactful courses.\\n\\n\\nExperience\\nShiv Nadar University\\n[Shiv Nadar University](https://in.linkedin.com/school/shiv-nadar-university/?trk=public_profile_experience-group-header)  \\nN/A - Present\\nN/A\\n\\n\\n\\nEducation\\nUniversity of Houston\\nDoctor of Philosophy - PhD, Applied Mathematics\\n2005 - 2011\\nNone',\n",
       "   'score': 0.77446437,\n",
       "   'raw_content': None},\n",
       "  {'url': 'https://snu.edu.in/faculty/ajit-kumar/',\n",
       "   'title': 'Ajit Kumar - Shiv Nadar University',\n",
       "   'content': 'Image 1: Shiv Nadar University Logo Image 2 Image 3 *   Admissions *   Programs *   Schools and Centers *   Department of Civil Engineering *   Department of Mechanical Engineering *   Department of Computer Science and Engineering *   Department of Chemical Engineering *   Department of Electrical Engineering *   Department of Chemistry *   Department of Life Sciences *   Department of Mathematics *   Department of Physics *   Department of Design *   Department of Economics *   Department of English *   Department of International Relations and Governance Studies *   Department of Sociology *   Department of Rural Management Image 6: Ajit Kumar Your Admission Assistant. *   Programs *   Admissions *   Schools and Centers *   Student Handbook *   Admission Blogs *   Parent Handbook *   For UG Admissions 1800-102-1768',\n",
       "   'score': 0.7507177,\n",
       "   'raw_content': None},\n",
       "  {'url': 'https://snu.edu.in/schools/school-of-natural-sciences/faculty/',\n",
       "   'title': 'Faculty | School of Natural Sciences - Shiv Nadar University',\n",
       "   'content': 'Aastha Dheer. Ramalingaswami Re-entry Fellow. Department of Life Sciences. Ajit Kumar. Assistant Professor School of Natural Sciences. Department',\n",
       "   'score': 0.74563974,\n",
       "   'raw_content': None},\n",
       "  {'url': 'https://krajit.github.io/',\n",
       "   'title': 'Ajit Kumar',\n",
       "   'content': 'Ajit Kumar. Assistant Professor, Mathematics. Email: ajit.kumar@snu.edu.in ... Ajit Kumar. Extension of OpenFoam to simulate 6DOF rigid body motion using',\n",
       "   'score': 0.69968605,\n",
       "   'raw_content': None}],\n",
       " 'response_time': 0.67,\n",
       " 'request_id': '07fe94a0-a2fe-4db3-9b5a-c4e1ebfac66e'}"
      ]
     },
     "execution_count": 19,
     "metadata": {},
     "output_type": "execute_result"
    }
   ],
   "execution_count": 19
  },
  {
   "cell_type": "code",
   "execution_count": null,
   "id": "37ffa86b",
   "metadata": {},
   "outputs": [],
   "source": []
  }
 ],
 "metadata": {
  "kernelspec": {
   "display_name": "mat496-monsoon2025",
   "language": "python",
   "name": "python3"
  },
  "language_info": {
   "codemirror_mode": {
    "name": "ipython",
    "version": 3
   },
   "file_extension": ".py",
   "mimetype": "text/x-python",
   "name": "python",
   "nbconvert_exporter": "python",
   "pygments_lexer": "ipython3",
   "version": "3.12.11"
  }
 },
 "nbformat": 4,
 "nbformat_minor": 5
}
