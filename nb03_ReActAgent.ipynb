{
 "cells": [
  {
   "cell_type": "code",
   "id": "e9541200",
   "metadata": {},
   "source": [
    "from dotenv import load_dotenv\n",
    "load_dotenv(override=True)"
   ],
   "outputs": [],
   "execution_count": null
  },
  {
   "cell_type": "code",
   "id": "a710feac",
   "metadata": {
    "ExecuteTime": {
     "end_time": "2025-09-28T17:25:59.310926Z",
     "start_time": "2025-09-28T17:25:59.302976Z"
    }
   },
   "source": [
    "from langchain_core.tools import tool\n",
    "\n",
    "@tool\n",
    "def laugh() -> str:\n",
    "    \"\"\" Call this tool if the mood is funny\"\"\"\n",
    "    return \"HAHAHAHAHAH\"\n",
    "\n",
    "\n",
    "@tool\n",
    "def sad() -> str:\n",
    "    \"\"\" Call this tool if you want to show sad, depressed, or negative feelings\"\"\"\n",
    "    return \"I am sad\"\n",
    "\n",
    "\n",
    "@tool\n",
    "def happy() -> str:\n",
    "    \"\"\" Call this tool if you want to show happiness or positive feeling\"\"\"\n",
    "    return \"I am happy\"\n"
   ],
   "outputs": [],
   "execution_count": 13
  },
  {
   "cell_type": "code",
   "id": "8945c71c",
   "metadata": {
    "ExecuteTime": {
     "end_time": "2025-09-28T17:26:00.562741Z",
     "start_time": "2025-09-28T17:26:00.560603Z"
    }
   },
   "source": [
    "tools_list = [laugh, sad, happy ]\n",
    "tools_dict = {t.name: t for t in tools_list}"
   ],
   "outputs": [],
   "execution_count": 14
  },
  {
   "metadata": {},
   "cell_type": "code",
   "source": "!pip install -U langchain-groq",
   "id": "6be4d03d53d664e7",
   "outputs": [],
   "execution_count": null
  },
  {
   "cell_type": "code",
   "id": "c6cbdcb1",
   "metadata": {
    "ExecuteTime": {
     "end_time": "2025-09-28T17:26:03.453735Z",
     "start_time": "2025-09-28T17:26:03.401267Z"
    }
   },
   "source": [
    "from langgraph.prebuilt import create_react_agent\n",
    "\n",
    "\n",
    "agent = create_react_agent(\"groq:openai/gpt-oss-120b\", tools_list)"
   ],
   "outputs": [],
   "execution_count": 16
  },
  {
   "cell_type": "code",
   "id": "a024d984",
   "metadata": {},
   "source": [
    "agent.invoke({\"messages\": \"Life is mean.\"})"
   ],
   "outputs": [],
   "execution_count": null
  },
  {
   "cell_type": "code",
   "execution_count": null,
   "id": "7bdf9cc1",
   "metadata": {},
   "outputs": [],
   "source": []
  }
 ],
 "metadata": {
  "kernelspec": {
   "display_name": "mat496-monsoon2025",
   "language": "python",
   "name": "python3"
  },
  "language_info": {
   "codemirror_mode": {
    "name": "ipython",
    "version": 3
   },
   "file_extension": ".py",
   "mimetype": "text/x-python",
   "name": "python",
   "nbconvert_exporter": "python",
   "pygments_lexer": "ipython3",
   "version": "3.12.11"
  }
 },
 "nbformat": 4,
 "nbformat_minor": 5
}
